{
  "nbformat": 4,
  "nbformat_minor": 0,
  "metadata": {
    "colab": {
      "name": "Introdução a Machine Learning e Classificações - 1.ipynb",
      "provenance": [],
      "toc_visible": true,
      "authorship_tag": "ABX9TyMcKxawyHj88TKLjuTxMwcG",
      "include_colab_link": true
    },
    "kernelspec": {
      "name": "python3",
      "display_name": "Python 3"
    },
    "language_info": {
      "name": "python"
    }
  },
  "cells": [
    {
      "cell_type": "markdown",
      "metadata": {
        "id": "view-in-github",
        "colab_type": "text"
      },
      "source": [
        "<a href=\"https://colab.research.google.com/github/d-marttinss/Sklearn_Alura/blob/main/Introdu%C3%A7%C3%A3o_a_Machine_Learning_e_Classifica%C3%A7%C3%B5es_1.ipynb\" target=\"_parent\"><img src=\"https://colab.research.google.com/assets/colab-badge.svg\" alt=\"Open In Colab\"/></a>"
      ]
    },
    {
      "cell_type": "code",
      "execution_count": null,
      "metadata": {
        "id": "fNw2cA_p3McT"
      },
      "outputs": [],
      "source": [
        "# Features (1 = Sim,  0 = Não)\n",
        "# Pelo longo?\n",
        "# Perna Curta?\n",
        "# Faz AUAU?\n",
        "\n",
        "porco1 = [0, 1, 0]\n",
        "porco2 = [0, 1, 1]\n",
        "porco3 = [1, 1, 0]\n",
        "\n",
        "cachorro1 = [0, 1, 1]\n",
        "cachorro2 = [1, 0, 1]\n",
        "cachorro3 = [1, 1, 1]\n",
        "\n",
        "# 1 -> Porco, 0 -> Cachorro\n",
        "treino_x = [porco1, porco2, porco3, cachorro1, cachorro2, cachorro3]\n",
        "treino_y = [1, 1, 1, 0, 0, 0,]"
      ]
    },
    {
      "cell_type": "code",
      "source": [
        "from sklearn.svm import LinearSVC\n",
        "\n",
        "# MEtodo Fit significa aprender, no caso precisa-se colocar o que precisa aprender dentro, que seria os dados e as classes neste projeto.\n",
        "model = LinearSVC()\n",
        "model.fit(treino_x, treino_y)"
      ],
      "metadata": {
        "colab": {
          "base_uri": "https://localhost:8080/"
        },
        "id": "_Bq6pq6R4TGS",
        "outputId": "6bab405c-3906-4687-a315-52b3dc3a28f4"
      },
      "execution_count": null,
      "outputs": [
        {
          "output_type": "execute_result",
          "data": {
            "text/plain": [
              "LinearSVC()"
            ]
          },
          "metadata": {},
          "execution_count": 2
        }
      ]
    },
    {
      "cell_type": "code",
      "source": [
        "animal_misterioso = [1,1,1]\n",
        "model.predict([animal_misterioso])"
      ],
      "metadata": {
        "colab": {
          "base_uri": "https://localhost:8080/"
        },
        "id": "CtgbPkPQ5YY9",
        "outputId": "cb6ae8d1-ad41-41e1-e9b9-ba4de9636519"
      },
      "execution_count": null,
      "outputs": [
        {
          "output_type": "execute_result",
          "data": {
            "text/plain": [
              "array([0])"
            ]
          },
          "metadata": {},
          "execution_count": 3
        }
      ]
    },
    {
      "cell_type": "code",
      "source": [
        "misterio1 = [1,1,1]\n",
        "misterio2 = [1,1,0]\n",
        "misterio3 = [0,1,1]\n",
        "\n",
        "testes_x = [misterio1, misterio2, misterio3]\n",
        "testes_y = [0,1,1]\n"
      ],
      "metadata": {
        "id": "bXrPiDxR5ntg"
      },
      "execution_count": null,
      "outputs": []
    },
    {
      "cell_type": "code",
      "source": [
        "previsoes = model.predict(testes_x)"
      ],
      "metadata": {
        "id": "KQAK28II6MlO"
      },
      "execution_count": null,
      "outputs": []
    },
    {
      "cell_type": "code",
      "source": [
        "num_acertos = (previsoes == testes_y).sum()\n",
        "tamanho_teste = len(testes_x)\n",
        "taxa_de_acerto =  num_acertos/tamanho_teste\n",
        "print(\"A taxa de acerto foi de\", (taxa_de_acerto * 100).round(2), \"%\")"
      ],
      "metadata": {
        "colab": {
          "base_uri": "https://localhost:8080/"
        },
        "id": "RuuYM1-G7BJ1",
        "outputId": "bd50d735-8b32-4e09-f626-d5e4460b1033"
      },
      "execution_count": null,
      "outputs": [
        {
          "output_type": "stream",
          "name": "stdout",
          "text": [
            "A taxa de acerto foi de 66.67 %\n"
          ]
        }
      ]
    },
    {
      "cell_type": "code",
      "source": [
        "#importando o metodo de calculo de acuracia\n",
        "\n",
        "from sklearn.metrics import accuracy_score\n",
        "\n",
        "taxa_de_acerto = accuracy_score(testes_y, previsoes)\n",
        "print(\"A taxa de acerto foi de \", (taxa_de_acerto * 100).round(2), \"%\")"
      ],
      "metadata": {
        "colab": {
          "base_uri": "https://localhost:8080/"
        },
        "id": "rVw9OwWo7F_d",
        "outputId": "f0732d4c-2fb9-4ce0-9db9-7f64cfc53efd"
      },
      "execution_count": null,
      "outputs": [
        {
          "output_type": "stream",
          "name": "stdout",
          "text": [
            "A taxa de acerto foi de  66.67 %\n"
          ]
        }
      ]
    }
  ]
}